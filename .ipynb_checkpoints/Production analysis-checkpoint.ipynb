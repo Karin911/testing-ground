{
 "cells": [
  {
   "cell_type": "code",
   "execution_count": 8,
   "id": "a6a3dabc-b880-495a-95ac-0d92a011f937",
   "metadata": {},
   "outputs": [],
   "source": [
    "#!pip install gspread"
   ]
  },
  {
   "cell_type": "code",
   "execution_count": null,
   "id": "f6a9043a-6eb9-41a6-bb28-ceabd6bcd2c9",
   "metadata": {},
   "outputs": [],
   "source": [
    "import gspread\n",
    "\n",
    "gc = gspread.service_account()\n",
    "\n",
    "# Open a sheet from a spreadsheet in one go\n",
    "wks = gc.open(\"Where is the money Lebowski?\").sheet1\n",
    "\n",
    "# Update a range of cells using the top left corner address\n",
    "wks.update('A1', [[1, 2], [3, 4]])\n",
    "\n",
    "# Or update a single cell\n",
    "wks.update('B42', \"it's down there somewhere, let me take another look.\")\n",
    "\n",
    "# Format the header\n",
    "wks.format('A1:B1', {'textFormat': {'bold': True}})"
   ]
  },
  {
   "cell_type": "code",
   "execution_count": 2,
   "id": "064c7398-d855-4692-aed5-ec70dc06fe49",
   "metadata": {},
   "outputs": [],
   "source": [
    "import gspread\n",
    "from gspread_dataframe import (get_as_dataframe,\n",
    "                               set_with_dataframe)\n",
    "from oauth2client.service_account import ServiceAccountCredentials\n",
    "import pandas as pd\n",
    "\n",
    "FILE_KEY: str = \"14SQSIz-iSWCazuPzr74On5fC5pKlZP2OHLCTNkcIO58\"\n",
    "SHEET_NAME: str = \"Digital Skills Videos\"\n",
    "\n",
    "def _get_worksheet(\n",
    "    key:str,\n",
    "    worksheet_name:str,\n",
    "    creds:\"filepath to Google account credentials\"=\"credentials.json\",\n",
    "    ) -> gspread.Worksheet:\n",
    "    \"\"\" return a gspread Worksheet instance for given Google Sheets workbook/worksheet \"\"\"\n",
    "    scope = [\"https://spreadsheets.google.com/feeds\",\n",
    "             \"https://www.googleapis.com/auth/drive\"]\n",
    "    credentials = ServiceAccountCredentials.from_json_keyfile_name(creds, scope)\n",
    "    gc = gspread.authorize(credentials)\n",
    "    wb = gc.open_by_key(key)\n",
    "    sheet = wb.worksheet(worksheet_name)\n",
    "    return sheet\n",
    "\n",
    "\n",
    "def write(sheet: gspread.Worksheet, df: pd.DataFrame, **options) -> None:\n",
    "    set_with_dataframe(sheet, df,\n",
    "                     include_index=False,\n",
    "                     resize=True,\n",
    "                     **options)"
   ]
  },
  {
   "cell_type": "code",
   "execution_count": 3,
   "id": "50188045-031d-4bbe-aac4-516aa82e2dd5",
   "metadata": {},
   "outputs": [
    {
     "ename": "NameError",
     "evalue": "name 'sheet' is not defined",
     "output_type": "error",
     "traceback": [
      "\u001b[0;31m---------------------------------------------------------------------------\u001b[0m",
      "\u001b[0;31mNameError\u001b[0m                                 Traceback (most recent call last)",
      "\u001b[0;32m/var/folders/kn/d10kxcqn1h5dfnzlxbmnsxgh0000gn/T/ipykernel_3828/1844653089.py\u001b[0m in \u001b[0;36m<module>\u001b[0;34m\u001b[0m\n\u001b[1;32m      2\u001b[0m \u001b[0;32mfrom\u001b[0m \u001b[0mgspread_dataframe\u001b[0m \u001b[0;32mimport\u001b[0m \u001b[0mget_as_dataframe\u001b[0m\u001b[0;34m\u001b[0m\u001b[0;34m\u001b[0m\u001b[0m\n\u001b[1;32m      3\u001b[0m \u001b[0;34m\u001b[0m\u001b[0m\n\u001b[0;32m----> 4\u001b[0;31m \u001b[0mdf\u001b[0m \u001b[0;34m=\u001b[0m \u001b[0mget_as_dataframe\u001b[0m\u001b[0;34m(\u001b[0m\u001b[0msheet\u001b[0m\u001b[0;34m,\u001b[0m \u001b[0mparse_dates\u001b[0m\u001b[0;34m=\u001b[0m\u001b[0;32mTrue\u001b[0m\u001b[0;34m,\u001b[0m \u001b[0musecols\u001b[0m\u001b[0;34m=\u001b[0m\u001b[0;34m[\u001b[0m\u001b[0;36m0\u001b[0m\u001b[0;34m,\u001b[0m\u001b[0;36m2\u001b[0m\u001b[0;34m]\u001b[0m\u001b[0;34m,\u001b[0m \u001b[0mskiprows\u001b[0m\u001b[0;34m=\u001b[0m\u001b[0;36m1\u001b[0m\u001b[0;34m,\u001b[0m \u001b[0mheader\u001b[0m\u001b[0;34m=\u001b[0m\u001b[0;32mNone\u001b[0m\u001b[0;34m)\u001b[0m\u001b[0;34m\u001b[0m\u001b[0;34m\u001b[0m\u001b[0m\n\u001b[0m",
      "\u001b[0;31mNameError\u001b[0m: name 'sheet' is not defined"
     ]
    }
   ],
   "source": [
    "import pandas as pd\n",
    "from gspread_dataframe import get_as_dataframe\n",
    "\n",
    "worksheet = some_worksheet_obtained_from_gspread_client\n",
    "\n",
    "df = get_as_dataframe(worksheet, parse_dates=True, usecols=[0,2], skiprows=1, header=None)"
   ]
  },
  {
   "cell_type": "code",
   "execution_count": null,
   "id": "4432ddde-adee-4ce3-81ab-99a4ca4d9d59",
   "metadata": {},
   "outputs": [],
   "source": []
  },
  {
   "cell_type": "code",
   "execution_count": null,
   "id": "179592c9-f9db-47e5-a53b-8aa1f7020955",
   "metadata": {},
   "outputs": [],
   "source": []
  },
  {
   "cell_type": "code",
   "execution_count": null,
   "id": "04bc9b64-18ba-435f-afe9-56596daee19e",
   "metadata": {},
   "outputs": [],
   "source": []
  },
  {
   "cell_type": "code",
   "execution_count": null,
   "id": "89e58bee-f96c-482a-96e7-c19f75919b4f",
   "metadata": {},
   "outputs": [],
   "source": []
  },
  {
   "cell_type": "code",
   "execution_count": null,
   "id": "aaff267d-07bf-421e-a08e-57d22b5f8970",
   "metadata": {},
   "outputs": [],
   "source": []
  },
  {
   "cell_type": "code",
   "execution_count": null,
   "id": "2f42d239-9651-453b-88d7-91a92f83e597",
   "metadata": {},
   "outputs": [],
   "source": []
  },
  {
   "cell_type": "code",
   "execution_count": 16,
   "id": "2cb9267e-0e0a-400b-8ef2-cfe01bfd09e8",
   "metadata": {},
   "outputs": [],
   "source": [
    "import pickle\n",
    "import os.path\n",
    "from google_auth_oauthlib.flow import InstalledAppFlow\n",
    "from google.auth.transport.requests import Request\n",
    "def gsheet_api_check(SCOPES):\n",
    "    creds = None\n",
    "    if os.path.exists('token.pickle'):\n",
    "        with open('token.pickle', 'rb') as token:\n",
    "            creds = pickle.load(token)\n",
    "    if not creds or not creds.valid:\n",
    "        if creds and creds.expired and creds.refresh_token:\n",
    "            creds.refresh(Request())\n",
    "        else:\n",
    "            flow = InstalledAppFlow.from_client_secrets_file(\n",
    "                'service_account.json', SCOPES)\n",
    "            creds = flow.run_local_server(port=0)\n",
    "        with open('token.pickle', 'wb') as token:\n",
    "            pickle.dump(creds, token)\n",
    "    return creds"
   ]
  },
  {
   "cell_type": "code",
   "execution_count": 17,
   "id": "22206630-9688-47d5-934a-9275c1e020fd",
   "metadata": {},
   "outputs": [],
   "source": [
    "from googleapiclient.discovery import build\n",
    "def pull_sheet_data(SCOPES,SPREADSHEET_ID,DATA_TO_PULL):\n",
    "    creds = gsheet_api_check(SCOPES)\n",
    "    service = build('sheets', 'v4', credentials=creds)\n",
    "    sheet = service.spreadsheets()\n",
    "    result = sheet.values().get(\n",
    "        spreadsheetId=SPREADSHEET_ID,\n",
    "        range=DATA_TO_PULL).execute()\n",
    "    values = result.get('values', [])\n",
    "    \n",
    "    if not values:\n",
    "        print('No data found.')\n",
    "    else:\n",
    "        rows = sheet.values().get(spreadsheetId=SPREADSHEET_ID,\n",
    "                                  range=DATA_TO_PULL).execute()\n",
    "        data = rows.get('values')\n",
    "        print(\"COMPLETE: Data copied\")\n",
    "        return data"
   ]
  },
  {
   "cell_type": "code",
   "execution_count": 18,
   "id": "ad515b98-3379-45e5-aa1a-8b2cec586148",
   "metadata": {},
   "outputs": [],
   "source": [
    "#Pulls data from the entire spreadsheet tab.\n",
    "DATA_TO_PULL = 'Jira'"
   ]
  },
  {
   "cell_type": "code",
   "execution_count": 19,
   "id": "62f6879c-0d66-44a6-a77b-924900befbb0",
   "metadata": {},
   "outputs": [],
   "source": [
    "from google.oauth2 import service_account\n",
    "\n",
    "SCOPES = ['https://www.googleapis.com/auth/sqlservice.admin']\n",
    "SERVICE_ACCOUNT_FILE = 'service_account.json'\n",
    "\n",
    "credentials = service_account.Credentials.from_service_account_file(\n",
    "        SERVICE_ACCOUNT_FILE, scopes=SCOPES)"
   ]
  },
  {
   "cell_type": "code",
   "execution_count": null,
   "id": "00cbf281-6e76-4d29-ac22-6b60b9d98b73",
   "metadata": {},
   "outputs": [],
   "source": []
  },
  {
   "cell_type": "code",
   "execution_count": 20,
   "id": "4b749214-5d21-4b55-819c-c3fb6ab050df",
   "metadata": {},
   "outputs": [
    {
     "ename": "ValueError",
     "evalue": "Client secrets must be for a web or installed app.",
     "output_type": "error",
     "traceback": [
      "\u001b[0;31m---------------------------------------------------------------------------\u001b[0m",
      "\u001b[0;31mValueError\u001b[0m                                Traceback (most recent call last)",
      "\u001b[0;32m/var/folders/kn/d10kxcqn1h5dfnzlxbmnsxgh0000gn/T/ipykernel_58599/2229067452.py\u001b[0m in \u001b[0;36m<module>\u001b[0;34m\u001b[0m\n\u001b[1;32m      3\u001b[0m \u001b[0mSPREADSHEET_ID\u001b[0m \u001b[0;34m=\u001b[0m \u001b[0;34m'14SQSIz-iSWCazuPzr74On5fC5pKlZP2OHLCTNkcIO58'\u001b[0m\u001b[0;34m\u001b[0m\u001b[0;34m\u001b[0m\u001b[0m\n\u001b[1;32m      4\u001b[0m \u001b[0mDATA_TO_PULL\u001b[0m \u001b[0;34m=\u001b[0m \u001b[0;34m'Jira'\u001b[0m\u001b[0;34m\u001b[0m\u001b[0;34m\u001b[0m\u001b[0m\n\u001b[0;32m----> 5\u001b[0;31m \u001b[0mdata\u001b[0m \u001b[0;34m=\u001b[0m \u001b[0mpull_sheet_data\u001b[0m\u001b[0;34m(\u001b[0m\u001b[0mSCOPES\u001b[0m\u001b[0;34m,\u001b[0m\u001b[0mSPREADSHEET_ID\u001b[0m\u001b[0;34m,\u001b[0m\u001b[0mDATA_TO_PULL\u001b[0m\u001b[0;34m)\u001b[0m\u001b[0;34m\u001b[0m\u001b[0;34m\u001b[0m\u001b[0m\n\u001b[0m\u001b[1;32m      6\u001b[0m \u001b[0mdf\u001b[0m \u001b[0;34m=\u001b[0m \u001b[0mpd\u001b[0m\u001b[0;34m.\u001b[0m\u001b[0mDataFrame\u001b[0m\u001b[0;34m(\u001b[0m\u001b[0mdata\u001b[0m\u001b[0;34m[\u001b[0m\u001b[0;36m1\u001b[0m\u001b[0;34m:\u001b[0m\u001b[0;34m]\u001b[0m\u001b[0;34m,\u001b[0m \u001b[0mcolumns\u001b[0m\u001b[0;34m=\u001b[0m\u001b[0mdata\u001b[0m\u001b[0;34m[\u001b[0m\u001b[0;36m0\u001b[0m\u001b[0;34m]\u001b[0m\u001b[0;34m)\u001b[0m\u001b[0;34m\u001b[0m\u001b[0;34m\u001b[0m\u001b[0m\n\u001b[1;32m      7\u001b[0m \u001b[0mdf\u001b[0m\u001b[0;34m\u001b[0m\u001b[0;34m\u001b[0m\u001b[0m\n",
      "\u001b[0;32m/var/folders/kn/d10kxcqn1h5dfnzlxbmnsxgh0000gn/T/ipykernel_58599/2958990115.py\u001b[0m in \u001b[0;36mpull_sheet_data\u001b[0;34m(SCOPES, SPREADSHEET_ID, DATA_TO_PULL)\u001b[0m\n\u001b[1;32m      1\u001b[0m \u001b[0;32mfrom\u001b[0m \u001b[0mgoogleapiclient\u001b[0m\u001b[0;34m.\u001b[0m\u001b[0mdiscovery\u001b[0m \u001b[0;32mimport\u001b[0m \u001b[0mbuild\u001b[0m\u001b[0;34m\u001b[0m\u001b[0;34m\u001b[0m\u001b[0m\n\u001b[1;32m      2\u001b[0m \u001b[0;32mdef\u001b[0m \u001b[0mpull_sheet_data\u001b[0m\u001b[0;34m(\u001b[0m\u001b[0mSCOPES\u001b[0m\u001b[0;34m,\u001b[0m\u001b[0mSPREADSHEET_ID\u001b[0m\u001b[0;34m,\u001b[0m\u001b[0mDATA_TO_PULL\u001b[0m\u001b[0;34m)\u001b[0m\u001b[0;34m:\u001b[0m\u001b[0;34m\u001b[0m\u001b[0;34m\u001b[0m\u001b[0m\n\u001b[0;32m----> 3\u001b[0;31m     \u001b[0mcreds\u001b[0m \u001b[0;34m=\u001b[0m \u001b[0mgsheet_api_check\u001b[0m\u001b[0;34m(\u001b[0m\u001b[0mSCOPES\u001b[0m\u001b[0;34m)\u001b[0m\u001b[0;34m\u001b[0m\u001b[0;34m\u001b[0m\u001b[0m\n\u001b[0m\u001b[1;32m      4\u001b[0m     \u001b[0mservice\u001b[0m \u001b[0;34m=\u001b[0m \u001b[0mbuild\u001b[0m\u001b[0;34m(\u001b[0m\u001b[0;34m'sheets'\u001b[0m\u001b[0;34m,\u001b[0m \u001b[0;34m'v4'\u001b[0m\u001b[0;34m,\u001b[0m \u001b[0mcredentials\u001b[0m\u001b[0;34m=\u001b[0m\u001b[0mcreds\u001b[0m\u001b[0;34m)\u001b[0m\u001b[0;34m\u001b[0m\u001b[0;34m\u001b[0m\u001b[0m\n\u001b[1;32m      5\u001b[0m     \u001b[0msheet\u001b[0m \u001b[0;34m=\u001b[0m \u001b[0mservice\u001b[0m\u001b[0;34m.\u001b[0m\u001b[0mspreadsheets\u001b[0m\u001b[0;34m(\u001b[0m\u001b[0;34m)\u001b[0m\u001b[0;34m\u001b[0m\u001b[0;34m\u001b[0m\u001b[0m\n",
      "\u001b[0;32m/var/folders/kn/d10kxcqn1h5dfnzlxbmnsxgh0000gn/T/ipykernel_58599/1212826038.py\u001b[0m in \u001b[0;36mgsheet_api_check\u001b[0;34m(SCOPES)\u001b[0m\n\u001b[1;32m     12\u001b[0m             \u001b[0mcreds\u001b[0m\u001b[0;34m.\u001b[0m\u001b[0mrefresh\u001b[0m\u001b[0;34m(\u001b[0m\u001b[0mRequest\u001b[0m\u001b[0;34m(\u001b[0m\u001b[0;34m)\u001b[0m\u001b[0;34m)\u001b[0m\u001b[0;34m\u001b[0m\u001b[0;34m\u001b[0m\u001b[0m\n\u001b[1;32m     13\u001b[0m         \u001b[0;32melse\u001b[0m\u001b[0;34m:\u001b[0m\u001b[0;34m\u001b[0m\u001b[0;34m\u001b[0m\u001b[0m\n\u001b[0;32m---> 14\u001b[0;31m             flow = InstalledAppFlow.from_client_secrets_file(\n\u001b[0m\u001b[1;32m     15\u001b[0m                 'service_account.json', SCOPES)\n\u001b[1;32m     16\u001b[0m             \u001b[0mcreds\u001b[0m \u001b[0;34m=\u001b[0m \u001b[0mflow\u001b[0m\u001b[0;34m.\u001b[0m\u001b[0mrun_local_server\u001b[0m\u001b[0;34m(\u001b[0m\u001b[0mport\u001b[0m\u001b[0;34m=\u001b[0m\u001b[0;36m0\u001b[0m\u001b[0;34m)\u001b[0m\u001b[0;34m\u001b[0m\u001b[0;34m\u001b[0m\u001b[0m\n",
      "\u001b[0;32m~/opt/anaconda3/envs/learner_hack/lib/python3.9/site-packages/google_auth_oauthlib/flow.py\u001b[0m in \u001b[0;36mfrom_client_secrets_file\u001b[0;34m(cls, client_secrets_file, scopes, **kwargs)\u001b[0m\n\u001b[1;32m    202\u001b[0m             \u001b[0mclient_config\u001b[0m \u001b[0;34m=\u001b[0m \u001b[0mjson\u001b[0m\u001b[0;34m.\u001b[0m\u001b[0mload\u001b[0m\u001b[0;34m(\u001b[0m\u001b[0mjson_file\u001b[0m\u001b[0;34m)\u001b[0m\u001b[0;34m\u001b[0m\u001b[0;34m\u001b[0m\u001b[0m\n\u001b[1;32m    203\u001b[0m \u001b[0;34m\u001b[0m\u001b[0m\n\u001b[0;32m--> 204\u001b[0;31m         \u001b[0;32mreturn\u001b[0m \u001b[0mcls\u001b[0m\u001b[0;34m.\u001b[0m\u001b[0mfrom_client_config\u001b[0m\u001b[0;34m(\u001b[0m\u001b[0mclient_config\u001b[0m\u001b[0;34m,\u001b[0m \u001b[0mscopes\u001b[0m\u001b[0;34m=\u001b[0m\u001b[0mscopes\u001b[0m\u001b[0;34m,\u001b[0m \u001b[0;34m**\u001b[0m\u001b[0mkwargs\u001b[0m\u001b[0;34m)\u001b[0m\u001b[0;34m\u001b[0m\u001b[0;34m\u001b[0m\u001b[0m\n\u001b[0m\u001b[1;32m    205\u001b[0m \u001b[0;34m\u001b[0m\u001b[0m\n\u001b[1;32m    206\u001b[0m     \u001b[0;34m@\u001b[0m\u001b[0mproperty\u001b[0m\u001b[0;34m\u001b[0m\u001b[0;34m\u001b[0m\u001b[0m\n",
      "\u001b[0;32m~/opt/anaconda3/envs/learner_hack/lib/python3.9/site-packages/google_auth_oauthlib/flow.py\u001b[0m in \u001b[0;36mfrom_client_config\u001b[0;34m(cls, client_config, scopes, **kwargs)\u001b[0m\n\u001b[1;32m    160\u001b[0m             \u001b[0mclient_type\u001b[0m \u001b[0;34m=\u001b[0m \u001b[0;34m\"installed\"\u001b[0m\u001b[0;34m\u001b[0m\u001b[0;34m\u001b[0m\u001b[0m\n\u001b[1;32m    161\u001b[0m         \u001b[0;32melse\u001b[0m\u001b[0;34m:\u001b[0m\u001b[0;34m\u001b[0m\u001b[0;34m\u001b[0m\u001b[0m\n\u001b[0;32m--> 162\u001b[0;31m             \u001b[0;32mraise\u001b[0m \u001b[0mValueError\u001b[0m\u001b[0;34m(\u001b[0m\u001b[0;34m\"Client secrets must be for a web or installed app.\"\u001b[0m\u001b[0;34m)\u001b[0m\u001b[0;34m\u001b[0m\u001b[0;34m\u001b[0m\u001b[0m\n\u001b[0m\u001b[1;32m    163\u001b[0m \u001b[0;34m\u001b[0m\u001b[0m\n\u001b[1;32m    164\u001b[0m         \u001b[0;31m# these args cannot be passed to requests_oauthlib.OAuth2Session\u001b[0m\u001b[0;34m\u001b[0m\u001b[0;34m\u001b[0m\u001b[0m\n",
      "\u001b[0;31mValueError\u001b[0m: Client secrets must be for a web or installed app."
     ]
    }
   ],
   "source": [
    "import pandas as pd\n",
    "SCOPES = ['https://www.googleapis.com/auth/spreadsheets']\n",
    "SPREADSHEET_ID = '14SQSIz-iSWCazuPzr74On5fC5pKlZP2OHLCTNkcIO58'\n",
    "DATA_TO_PULL = 'Jira'\n",
    "data = pull_sheet_data(SCOPES,SPREADSHEET_ID,DATA_TO_PULL)\n",
    "df = pd.DataFrame(data[1:], columns=data[0])\n",
    "df"
   ]
  },
  {
   "cell_type": "code",
   "execution_count": null,
   "id": "0342a1d2-fdd9-431e-a217-fd3f9bd3e14c",
   "metadata": {},
   "outputs": [],
   "source": []
  },
  {
   "cell_type": "code",
   "execution_count": null,
   "id": "e20f820a-f8fd-4703-81d8-de99bc35f7e7",
   "metadata": {},
   "outputs": [],
   "source": []
  },
  {
   "cell_type": "code",
   "execution_count": null,
   "id": "3d2c5064-543b-4386-992d-868001511a37",
   "metadata": {},
   "outputs": [],
   "source": []
  },
  {
   "cell_type": "code",
   "execution_count": null,
   "id": "e227215b-a123-4bd2-9bca-cc420d46e004",
   "metadata": {},
   "outputs": [],
   "source": []
  },
  {
   "cell_type": "code",
   "execution_count": null,
   "id": "3be6f385-90fb-455b-b538-66bd7293a92c",
   "metadata": {},
   "outputs": [],
   "source": [
    "import pandas as pd\n",
    "import json\n",
    "import csv\n",
    "from google.oauth2 import service_account"
   ]
  },
  {
   "cell_type": "code",
   "execution_count": null,
   "id": "7ba9da6d-d60c-4d2a-9072-76baa02a2f4b",
   "metadata": {},
   "outputs": [],
   "source": [
    "import pygsheets"
   ]
  },
  {
   "cell_type": "code",
   "execution_count": null,
   "id": "8817f768-7c31-455c-a171-69d49ae4ccae",
   "metadata": {},
   "outputs": [],
   "source": [
    "with open('service_account.json') as source:\n",
    "    info = json.load(source)\n",
    "credentials = service_account.Credentials.from_service_account_info(info)"
   ]
  },
  {
   "cell_type": "code",
   "execution_count": null,
   "id": "70e5a685-afc3-420b-a4f9-4607f7214a2a",
   "metadata": {},
   "outputs": [],
   "source": [
    "client = pygsheets.authorize(service_account_file='service_account.json')"
   ]
  },
  {
   "cell_type": "code",
   "execution_count": null,
   "id": "6e033030-10cd-4a39-92da-828c77ff26ce",
   "metadata": {},
   "outputs": [],
   "source": [
    "spreadsheet_url = \"https://docs.google.com/spreadsheets/d/14SQSIz-iSWCazuPzr74On5fC5pKlZP2OHLCTNkcIO58/edit?usp=sharing\""
   ]
  },
  {
   "cell_type": "code",
   "execution_count": null,
   "id": "9b8eb843-aad8-42f7-bc3e-9f266b31462c",
   "metadata": {},
   "outputs": [],
   "source": [
    "sheet_data = client.sheet.get(\"14SQSIz-iSWCazuPzr74On5fC5pKlZP2OHLCTNkcIO58\")"
   ]
  },
  {
   "cell_type": "code",
   "execution_count": null,
   "id": "21d36cf0-78fb-4424-a613-76be96949127",
   "metadata": {},
   "outputs": [],
   "source": [
    "sheet"
   ]
  },
  {
   "cell_type": "code",
   "execution_count": null,
   "id": "e246d4c5-ef2f-4c90-aeb9-ae3756ab472d",
   "metadata": {},
   "outputs": [],
   "source": [
    "# sheet = client.open('Sheet1') ## You will need to activate the Google Drive API as well as the spreadsheet API for this one to work\n",
    "sheet = client.open_by_key('14SQSIz-iSWCazuPzr74On5fC5pKlZP2OHLCTNkcIO58')\n",
    "sheet = client.open_by_url('https://docs.google.com/spreadsheets/d/14SQSIz-iSWCazuPzr74On5fC5pKlZP2OHLCTNkcIO58/edit?usp=sharing')"
   ]
  },
  {
   "cell_type": "code",
   "execution_count": null,
   "id": "75880faa-faeb-4f4d-be46-7dc470904d32",
   "metadata": {},
   "outputs": [],
   "source": [
    "wks = sheet.worksheet_by_title('Jira')"
   ]
  },
  {
   "cell_type": "code",
   "execution_count": null,
   "id": "0b3004b6-c54c-4ce6-b2ba-081f72a94e34",
   "metadata": {},
   "outputs": [],
   "source": [
    "wks"
   ]
  },
  {
   "cell_type": "code",
   "execution_count": null,
   "id": "4cd1f108-44a6-46e4-93c1-a2bf80ec2a38",
   "metadata": {},
   "outputs": [],
   "source": [
    "print(f\"There are {wks.cols} columns in the gsheet!\")\n",
    "print(f\"There are {wks.rows} rows in the gsheet!\")"
   ]
  },
  {
   "cell_type": "code",
   "execution_count": null,
   "id": "c05e8320-38fe-4ab0-9505-4917ab1484b3",
   "metadata": {},
   "outputs": [],
   "source": []
  },
  {
   "cell_type": "code",
   "execution_count": null,
   "id": "bca85cc9-2cb8-408b-a70f-399a57486f72",
   "metadata": {},
   "outputs": [],
   "source": []
  },
  {
   "cell_type": "code",
   "execution_count": null,
   "id": "f41e042c-1553-4f32-8f56-3ac2fbaffdc0",
   "metadata": {},
   "outputs": [],
   "source": []
  }
 ],
 "metadata": {
  "kernelspec": {
   "display_name": "Python 3 (ipykernel)",
   "language": "python",
   "name": "python3"
  },
  "language_info": {
   "codemirror_mode": {
    "name": "ipython",
    "version": 3
   },
   "file_extension": ".py",
   "mimetype": "text/x-python",
   "name": "python",
   "nbconvert_exporter": "python",
   "pygments_lexer": "ipython3",
   "version": "3.8.12"
  }
 },
 "nbformat": 4,
 "nbformat_minor": 5
}
